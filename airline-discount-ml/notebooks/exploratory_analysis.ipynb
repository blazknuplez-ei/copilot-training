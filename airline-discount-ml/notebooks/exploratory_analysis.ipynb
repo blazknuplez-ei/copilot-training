{
 "cells": [
  {
   "cell_type": "markdown",
   "metadata": {},
   "source": [
    "# Exploratory Data Analysis\n",
    "\n",
    "In this notebook, we will perform exploratory data analysis (EDA) on the airline discount dataset. The goal is to understand the data better and derive insights that can help in generating customized discounts for airline routes based on passenger travel history."
   ]
  },
  {
   "cell_type": "code",
   "execution_count": 4,
   "metadata": {},
   "outputs": [],
   "source": [
    "# Import necessary libraries\n",
    "import pandas as pd\n",
    "import matplotlib.pyplot as plt\n",
    "import seaborn as sns\n",
    "\n",
    "# Set visualization style\n",
    "sns.set(style='whitegrid')"
   ]
  },
  {
   "cell_type": "code",
   "execution_count": 6,
   "metadata": {},
   "outputs": [
    {
     "name": "stdout",
     "output_type": "stream",
     "text": [
      "✓ Database connection successful: /Users/maria/airlst-github-copilot-training/airline-discount-ml/data/airline_discount.db\n",
      "✓ Connected to database successfully\n"
     ]
    }
   ],
   "source": [
    "# Connect to the database\n",
    "import sys\n",
    "from pathlib import Path\n",
    "\n",
    "# Add project root to path\n",
    "project_root = Path().resolve().parent\n",
    "sys.path.insert(0, str(project_root))\n",
    "\n",
    "from src.data.database import get_connection\n",
    "\n",
    "# Create database connection\n",
    "db = get_connection()\n",
    "database_connection = db.connection\n",
    "\n",
    "print(\"✓ Connected to database successfully\")"
   ]
  },
  {
   "cell_type": "code",
   "execution_count": 7,
   "metadata": {},
   "outputs": [
    {
     "data": {
      "text/html": [
       "<div>\n",
       "<style scoped>\n",
       "    .dataframe tbody tr th:only-of-type {\n",
       "        vertical-align: middle;\n",
       "    }\n",
       "\n",
       "    .dataframe tbody tr th {\n",
       "        vertical-align: top;\n",
       "    }\n",
       "\n",
       "    .dataframe thead th {\n",
       "        text-align: right;\n",
       "    }\n",
       "</style>\n",
       "<table border=\"1\" class=\"dataframe\">\n",
       "  <thead>\n",
       "    <tr style=\"text-align: right;\">\n",
       "      <th></th>\n",
       "      <th>id</th>\n",
       "      <th>name</th>\n",
       "      <th>travel_history</th>\n",
       "      <th>created_at</th>\n",
       "    </tr>\n",
       "  </thead>\n",
       "  <tbody>\n",
       "    <tr>\n",
       "      <th>0</th>\n",
       "      <td>1</td>\n",
       "      <td>John Smith</td>\n",
       "      <td>{\"flights\": 10, \"miles\": 5000}</td>\n",
       "      <td>2025-10-12 20:09:22</td>\n",
       "    </tr>\n",
       "    <tr>\n",
       "      <th>1</th>\n",
       "      <td>2</td>\n",
       "      <td>Jane Doe</td>\n",
       "      <td>{\"flights\": 25, \"miles\": 15000}</td>\n",
       "      <td>2025-10-12 20:09:22</td>\n",
       "    </tr>\n",
       "    <tr>\n",
       "      <th>2</th>\n",
       "      <td>3</td>\n",
       "      <td>Bob Johnson</td>\n",
       "      <td>{\"flights\": 5, \"miles\": 2500}</td>\n",
       "      <td>2025-10-12 20:09:22</td>\n",
       "    </tr>\n",
       "    <tr>\n",
       "      <th>3</th>\n",
       "      <td>4</td>\n",
       "      <td>John Smith</td>\n",
       "      <td>{\"flights\": 10, \"miles\": 5000}</td>\n",
       "      <td>2025-10-12 20:11:06</td>\n",
       "    </tr>\n",
       "    <tr>\n",
       "      <th>4</th>\n",
       "      <td>5</td>\n",
       "      <td>Jane Doe</td>\n",
       "      <td>{\"flights\": 25, \"miles\": 15000}</td>\n",
       "      <td>2025-10-12 20:11:06</td>\n",
       "    </tr>\n",
       "  </tbody>\n",
       "</table>\n",
       "</div>"
      ],
      "text/plain": [
       "   id         name                   travel_history           created_at\n",
       "0   1   John Smith   {\"flights\": 10, \"miles\": 5000}  2025-10-12 20:09:22\n",
       "1   2     Jane Doe  {\"flights\": 25, \"miles\": 15000}  2025-10-12 20:09:22\n",
       "2   3  Bob Johnson    {\"flights\": 5, \"miles\": 2500}  2025-10-12 20:09:22\n",
       "3   4   John Smith   {\"flights\": 10, \"miles\": 5000}  2025-10-12 20:11:06\n",
       "4   5     Jane Doe  {\"flights\": 25, \"miles\": 15000}  2025-10-12 20:11:06"
      ]
     },
     "execution_count": 7,
     "metadata": {},
     "output_type": "execute_result"
    }
   ],
   "source": [
    "# Load the dataset from the passengers table\n",
    "# Available tables: passengers, routes, discounts\n",
    "data = pd.read_sql_query('SELECT * FROM passengers', con=database_connection)\n",
    "\n",
    "# Display the first few rows of the dataset\n",
    "data.head()"
   ]
  },
  {
   "cell_type": "code",
   "execution_count": null,
   "metadata": {},
   "outputs": [],
   "source": [
    "# Explore the data structure\n",
    "print(\"Dataset shape:\", data.shape)\n",
    "print(\"\\nColumn names:\", data.columns.tolist())\n",
    "print(\"\\nData types:\")\n",
    "print(data.dtypes)\n",
    "print(\"\\nFirst few rows:\")\n",
    "data.head()"
   ]
  },
  {
   "cell_type": "code",
   "execution_count": 8,
   "metadata": {},
   "outputs": [
    {
     "name": "stdout",
     "output_type": "stream",
     "text": [
      "Loaded 6 discount records\n"
     ]
    },
    {
     "data": {
      "text/html": [
       "<div>\n",
       "<style scoped>\n",
       "    .dataframe tbody tr th:only-of-type {\n",
       "        vertical-align: middle;\n",
       "    }\n",
       "\n",
       "    .dataframe tbody tr th {\n",
       "        vertical-align: top;\n",
       "    }\n",
       "\n",
       "    .dataframe thead th {\n",
       "        text-align: right;\n",
       "    }\n",
       "</style>\n",
       "<table border=\"1\" class=\"dataframe\">\n",
       "  <thead>\n",
       "    <tr style=\"text-align: right;\">\n",
       "      <th></th>\n",
       "      <th>passenger_id</th>\n",
       "      <th>passenger_name</th>\n",
       "      <th>travel_history</th>\n",
       "      <th>origin</th>\n",
       "      <th>destination</th>\n",
       "      <th>distance</th>\n",
       "      <th>discount_value</th>\n",
       "    </tr>\n",
       "  </thead>\n",
       "  <tbody>\n",
       "    <tr>\n",
       "      <th>0</th>\n",
       "      <td>1</td>\n",
       "      <td>John Smith</td>\n",
       "      <td>{\"flights\": 10, \"miles\": 5000}</td>\n",
       "      <td>New York</td>\n",
       "      <td>London</td>\n",
       "      <td>3459.0</td>\n",
       "      <td>15.0</td>\n",
       "    </tr>\n",
       "    <tr>\n",
       "      <th>1</th>\n",
       "      <td>2</td>\n",
       "      <td>Jane Doe</td>\n",
       "      <td>{\"flights\": 25, \"miles\": 15000}</td>\n",
       "      <td>Los Angeles</td>\n",
       "      <td>Tokyo</td>\n",
       "      <td>5478.0</td>\n",
       "      <td>25.0</td>\n",
       "    </tr>\n",
       "    <tr>\n",
       "      <th>2</th>\n",
       "      <td>3</td>\n",
       "      <td>Bob Johnson</td>\n",
       "      <td>{\"flights\": 5, \"miles\": 2500}</td>\n",
       "      <td>San Francisco</td>\n",
       "      <td>Paris</td>\n",
       "      <td>5558.0</td>\n",
       "      <td>10.0</td>\n",
       "    </tr>\n",
       "    <tr>\n",
       "      <th>3</th>\n",
       "      <td>1</td>\n",
       "      <td>John Smith</td>\n",
       "      <td>{\"flights\": 10, \"miles\": 5000}</td>\n",
       "      <td>New York</td>\n",
       "      <td>London</td>\n",
       "      <td>3459.0</td>\n",
       "      <td>15.0</td>\n",
       "    </tr>\n",
       "    <tr>\n",
       "      <th>4</th>\n",
       "      <td>2</td>\n",
       "      <td>Jane Doe</td>\n",
       "      <td>{\"flights\": 25, \"miles\": 15000}</td>\n",
       "      <td>Los Angeles</td>\n",
       "      <td>Tokyo</td>\n",
       "      <td>5478.0</td>\n",
       "      <td>25.0</td>\n",
       "    </tr>\n",
       "  </tbody>\n",
       "</table>\n",
       "</div>"
      ],
      "text/plain": [
       "   passenger_id passenger_name                   travel_history  \\\n",
       "0             1     John Smith   {\"flights\": 10, \"miles\": 5000}   \n",
       "1             2       Jane Doe  {\"flights\": 25, \"miles\": 15000}   \n",
       "2             3    Bob Johnson    {\"flights\": 5, \"miles\": 2500}   \n",
       "3             1     John Smith   {\"flights\": 10, \"miles\": 5000}   \n",
       "4             2       Jane Doe  {\"flights\": 25, \"miles\": 15000}   \n",
       "\n",
       "          origin destination  distance  discount_value  \n",
       "0       New York      London    3459.0            15.0  \n",
       "1    Los Angeles       Tokyo    5478.0            25.0  \n",
       "2  San Francisco       Paris    5558.0            10.0  \n",
       "3       New York      London    3459.0            15.0  \n",
       "4    Los Angeles       Tokyo    5478.0            25.0  "
      ]
     },
     "execution_count": 8,
     "metadata": {},
     "output_type": "execute_result"
    }
   ],
   "source": [
    "# Load all tables and create a comprehensive dataset\n",
    "query = \"\"\"\n",
    "SELECT \n",
    "    p.id as passenger_id,\n",
    "    p.name as passenger_name,\n",
    "    p.travel_history,\n",
    "    r.origin,\n",
    "    r.destination,\n",
    "    r.distance,\n",
    "    d.discount_value\n",
    "FROM discounts d\n",
    "JOIN passengers p ON d.passenger_id = p.id\n",
    "JOIN routes r ON d.route_id = r.id\n",
    "\"\"\"\n",
    "\n",
    "discount_data = pd.read_sql_query(query, con=database_connection)\n",
    "print(f\"Loaded {len(discount_data)} discount records\")\n",
    "discount_data.head()"
   ]
  },
  {
   "cell_type": "code",
   "execution_count": null,
   "metadata": {},
   "outputs": [],
   "source": [
    "# Visualize the distribution of discount values\n",
    "plt.figure(figsize=(10, 6))\n",
    "sns.histplot(discount_data['discount_value'], bins=20, kde=True, color='steelblue')\n",
    "plt.title('Distribution of Discount Values')\n",
    "plt.xlabel('Discount Value (%)')\n",
    "plt.ylabel('Frequency')\n",
    "plt.grid(True, alpha=0.3)\n",
    "plt.show()"
   ]
  },
  {
   "cell_type": "code",
   "execution_count": null,
   "metadata": {},
   "outputs": [],
   "source": [
    "# Analyze relationship between distance and discount\n",
    "plt.figure(figsize=(10, 6))\n",
    "sns.scatterplot(data=discount_data, x='distance', y='discount_value', s=100, alpha=0.7)\n",
    "plt.title('Route Distance vs Discount Value')\n",
    "plt.xlabel('Distance (miles)')\n",
    "plt.ylabel('Discount Value (%)')\n",
    "plt.grid(True, alpha=0.3)\n",
    "plt.show()\n",
    "\n",
    "# Show summary statistics\n",
    "print(\"\\nDiscount Statistics by Route:\")\n",
    "print(discount_data.groupby(['origin', 'destination'])['discount_value'].describe())"
   ]
  },
  {
   "cell_type": "markdown",
   "metadata": {},
   "source": [
    "## Conclusion\n",
    "\n",
    "This exploratory data analysis provides insights into the distribution of predicted values and the relationships between different features in the dataset. Further analysis can be conducted to refine the discount generation strategy."
   ]
  }
 ],
 "metadata": {
  "kernelspec": {
   "display_name": ".venv",
   "language": "python",
   "name": "python3"
  },
  "language_info": {
   "codemirror_mode": {
    "name": "ipython",
    "version": 3
   },
   "file_extension": ".py",
   "mimetype": "text/x-python",
   "name": "python",
   "nbconvert_exporter": "python",
   "pygments_lexer": "ipython3",
   "version": "3.13.8"
  }
 },
 "nbformat": 4,
 "nbformat_minor": 4
}
